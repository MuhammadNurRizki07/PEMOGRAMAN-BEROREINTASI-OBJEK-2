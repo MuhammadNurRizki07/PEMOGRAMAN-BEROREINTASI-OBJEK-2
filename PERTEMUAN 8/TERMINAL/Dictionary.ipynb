{
 "cells": [
  {
   "cell_type": "code",
   "execution_count": 6,
   "id": "20af8d9b-0311-4b66-8224-698750955141",
   "metadata": {},
   "outputs": [
    {
     "name": "stdout",
     "output_type": "stream",
     "text": [
      "dict['Name']:  Riski\n",
      "dict['Age']:  20\n"
     ]
    }
   ],
   "source": [
    "dict = {'Name': 'Riski', 'Age': 20, 'Class': 'First'}\n",
    "print (\"dict['Name']: \", dict['Name'])\n",
    "print (\"dict['Age']: \", dict['Age'])"
   ]
  },
  {
   "cell_type": "code",
   "execution_count": 2,
   "id": "4f6632aa-021b-47db-b83e-4a2d67b804cf",
   "metadata": {},
   "outputs": [
    {
     "name": "stdout",
     "output_type": "stream",
     "text": [
      "dict['Age']:  19\n",
      "dict['School']:  Universitas Muhammadiyah Cirebon\n"
     ]
    }
   ],
   "source": [
    "dict = {'Name': 'Riski', 'Age': 20, 'Class': 'First'}\n",
    "dict['Age'] = 19; \n",
    "dict['School'] = \"Universitas Muhammadiyah Cirebon\"\n",
    "\n",
    "print (\"dict['Age']: \", dict['Age'])\n",
    "print (\"dict['School']: \", dict['School'])"
   ]
  },
  {
   "cell_type": "code",
   "execution_count": 7,
   "id": "f980181f-54dd-4f55-a297-6e1bc907a5fc",
   "metadata": {},
   "outputs": [
    {
     "name": "stdout",
     "output_type": "stream",
     "text": [
      "dict['Age']:  dict['Age']\n",
      "dict['School']:  dict['School']\n"
     ]
    }
   ],
   "source": [
    "dict = {'Name': 'Riski', 'Age': 19, 'Class': 'First'}\n",
    "del dict['Name'] \n",
    "dict.clear()\n",
    "del dict\n",
    "\n",
    "print (\"dict['Age']: \", dict['Age'])\n",
    "print (\"dict['School']: \", dict['School'])"
   ]
  },
  {
   "cell_type": "code",
   "execution_count": null,
   "id": "d5a0be7a-632e-4491-a075-a8c320cf6fcc",
   "metadata": {},
   "outputs": [],
   "source": []
  }
 ],
 "metadata": {
  "kernelspec": {
   "display_name": "Python 3 (ipykernel)",
   "language": "python",
   "name": "python3"
  },
  "language_info": {
   "codemirror_mode": {
    "name": "ipython",
    "version": 3
   },
   "file_extension": ".py",
   "mimetype": "text/x-python",
   "name": "python",
   "nbconvert_exporter": "python",
   "pygments_lexer": "ipython3",
   "version": "3.9.13"
  }
 },
 "nbformat": 4,
 "nbformat_minor": 5
}
