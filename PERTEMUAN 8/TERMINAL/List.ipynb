{
 "cells": [
  {
   "cell_type": "code",
   "execution_count": 1,
   "id": "38685ed4-e1c4-4a0b-b5c6-886f5a264fad",
   "metadata": {},
   "outputs": [
    {
     "name": "stdout",
     "output_type": "stream",
     "text": [
      "list1[0]:  Riski\n",
      "list2[1:5]:  [2, 3, 4, 5]\n"
     ]
    }
   ],
   "source": [
    "list1 = ['Riski', 'kimia', 2004, 2017]\n",
    "list2 = [1, 2, 3, 4, 5, 6, 7 ]\n",
    "\n",
    "print (\"list1[0]: \", list1[0])\n",
    "print (\"list2[1:5]: \", list2[1:5])"
   ]
  },
  {
   "cell_type": "code",
   "execution_count": 2,
   "id": "15785c89-eeb4-4df1-9ce4-8bfcd17d101c",
   "metadata": {},
   "outputs": [
    {
     "name": "stdout",
     "output_type": "stream",
     "text": [
      "Harga ada pada index 2 :  5000\n",
      "Harga baru ada pada index 2 :  7000\n"
     ]
    }
   ],
   "source": [
    "list = ['apel', 'pisang', 5000, 10000]\n",
    "print(\"Harga ada pada index 2 : \", list[2])\n",
    "\n",
    "list[2] = 7000\n",
    "print(\"Harga baru ada pada index 2 : \", list[2])\n"
   ]
  },
  {
   "cell_type": "code",
   "execution_count": 3,
   "id": "82dcd6d4-2907-4024-ade1-54b04fd917ea",
   "metadata": {},
   "outputs": [
    {
     "name": "stdout",
     "output_type": "stream",
     "text": [
      "['Riski', 'kimia', 2004, 2017]\n",
      "Setelah dihapus nilai pada index 2 :  ['Riski', 'kimia', 2017]\n"
     ]
    }
   ],
   "source": [
    "list = ['Riski', 'kimia', 2004, 2017]\n",
    "print (list)\n",
    "del list[2]\n",
    "print (\"Setelah dihapus nilai pada index 2 : \", list)"
   ]
  },
  {
   "cell_type": "code",
   "execution_count": null,
   "id": "24f4e84b-7d7f-42c5-ab1e-76460850eddf",
   "metadata": {},
   "outputs": [],
   "source": []
  }
 ],
 "metadata": {
  "kernelspec": {
   "display_name": "Python 3 (ipykernel)",
   "language": "python",
   "name": "python3"
  },
  "language_info": {
   "codemirror_mode": {
    "name": "ipython",
    "version": 3
   },
   "file_extension": ".py",
   "mimetype": "text/x-python",
   "name": "python",
   "nbconvert_exporter": "python",
   "pygments_lexer": "ipython3",
   "version": "3.9.13"
  }
 },
 "nbformat": 4,
 "nbformat_minor": 5
}
