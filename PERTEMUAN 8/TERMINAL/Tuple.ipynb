{
 "cells": [
  {
   "cell_type": "code",
   "execution_count": 6,
   "id": "9cfe0fb7-5e54-482b-83ee-b1b139d7373b",
   "metadata": {},
   "outputs": [
    {
     "name": "stdout",
     "output_type": "stream",
     "text": [
      "tup1[0]:  Riski\n",
      "tup2[1:5]:  (2, 3, 4, 5)\n"
     ]
    }
   ],
   "source": [
    "tup1 = ('Riski', 'TIF', 2004, 2022)\n",
    "tup2 = (1, 2, 3, 4, 5, 6, 7 )\n",
    "\n",
    "print (\"tup1[0]: \", tup1[0])\n",
    "print (\"tup2[1:5]: \", tup2[1:5])"
   ]
  },
  {
   "cell_type": "code",
   "execution_count": 9,
   "id": "f7df254f-6efa-456d-8375-ff668001c25d",
   "metadata": {},
   "outputs": [
    {
     "name": "stdout",
     "output_type": "stream",
     "text": [
      "Tuple hari: ('Senin', 'Selasa', 'Rabu', 'Kamis', 'Jumat', 'Sabtu', 'Minggu')\n",
      "Hari pada index 3: Kamis\n"
     ]
    }
   ],
   "source": [
    "hari = ('Senin', 'Selasa', 'Rabu', 'Kamis', 'Jumat', 'Sabtu', 'Minggu')\n",
    "print(\"Tuple hari:\", hari)\n",
    "print(\"Hari pada index 3:\", hari[3])\n"
   ]
  },
  {
   "cell_type": "code",
   "execution_count": 10,
   "id": "8a42b64c-83b1-468b-bba2-571f4d6da769",
   "metadata": {},
   "outputs": [
    {
     "name": "stdout",
     "output_type": "stream",
     "text": [
      "Tuple hari setelah perubahan: ('Senin', 'Selasa', 'Rabu', 'Kamis Baru', 'Jumat', 'Sabtu', 'Minggu')\n"
     ]
    }
   ],
   "source": [
    "hari_list = list(hari)\n",
    "hari_list[3] = 'Kamis Baru'\n",
    "hari = tuple(hari_list)\n",
    "print(\"Tuple hari setelah perubahan:\", hari)"
   ]
  },
  {
   "cell_type": "code",
   "execution_count": 11,
   "id": "89b42835-c554-4a25-bbaa-f383b767d408",
   "metadata": {},
   "outputs": [
    {
     "name": "stdout",
     "output_type": "stream",
     "text": [
      "Tuple hari setelah penambahan: ('Senin', 'Selasa', 'Rabu', 'Kamis Baru', 'Jumat', 'Sabtu', 'Minggu', 'Libur')\n"
     ]
    }
   ],
   "source": [
    "hari = hari + ('Libur',)\n",
    "print(\"Tuple hari setelah penambahan:\", hari)"
   ]
  },
  {
   "cell_type": "code",
   "execution_count": null,
   "id": "f9f6837a-9aac-4961-97fc-92d74ebb2d7b",
   "metadata": {},
   "outputs": [],
   "source": []
  }
 ],
 "metadata": {
  "kernelspec": {
   "display_name": "Python 3 (ipykernel)",
   "language": "python",
   "name": "python3"
  },
  "language_info": {
   "codemirror_mode": {
    "name": "ipython",
    "version": 3
   },
   "file_extension": ".py",
   "mimetype": "text/x-python",
   "name": "python",
   "nbconvert_exporter": "python",
   "pygments_lexer": "ipython3",
   "version": "3.9.13"
  }
 },
 "nbformat": 4,
 "nbformat_minor": 5
}
