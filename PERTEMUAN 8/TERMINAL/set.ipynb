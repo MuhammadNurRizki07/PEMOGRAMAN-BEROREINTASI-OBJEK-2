{
 "cells": [
  {
   "cell_type": "code",
   "execution_count": 2,
   "id": "b61d4140-491d-4510-b68d-ff807d3e0adc",
   "metadata": {},
   "outputs": [
    {
     "name": "stdout",
     "output_type": "stream",
     "text": [
      "Set mahasiswa awal: {'Riski', 'Cici', 'Budi', 'Dewi'}\n"
     ]
    }
   ],
   "source": [
    "mahasiswa = {'Riski', 'Budi', 'Cici', 'Dewi'}\n",
    "print(\"Set mahasiswa awal:\", mahasiswa)"
   ]
  },
  {
   "cell_type": "code",
   "execution_count": 3,
   "id": "091319d6-e457-41b0-9539-f2221ea241f4",
   "metadata": {},
   "outputs": [
    {
     "name": "stdout",
     "output_type": "stream",
     "text": [
      "Set mahasiswa setelah penambahan: {'Cici', 'Budi', 'Dewi', 'Simpel', 'Riski'}\n"
     ]
    }
   ],
   "source": [
    "mahasiswa.add('Simpel')\n",
    "print(\"Set mahasiswa setelah penambahan:\", mahasiswa)"
   ]
  },
  {
   "cell_type": "code",
   "execution_count": 4,
   "id": "1a67f9b1-5cf5-4d0f-914d-17a871fe8313",
   "metadata": {},
   "outputs": [
    {
     "name": "stdout",
     "output_type": "stream",
     "text": [
      "Set mahasiswa setelah penghapusan 'Budi': {'Cici', 'Dewi', 'Simpel', 'Riski'}\n"
     ]
    }
   ],
   "source": [
    "mahasiswa.remove('Budi')\n",
    "print(\"Set mahasiswa setelah penghapusan 'Budi':\", mahasiswa)"
   ]
  },
  {
   "cell_type": "code",
   "execution_count": 5,
   "id": "93ca88e3-1d65-454e-9b12-a846b7cdfdf9",
   "metadata": {},
   "outputs": [
    {
     "name": "stdout",
     "output_type": "stream",
     "text": [
      "Set mahasiswa setelah penghapusan elemen acak: {'Dewi', 'Simpel', 'Riski'}\n"
     ]
    }
   ],
   "source": [
    "mahasiswa.pop()\n",
    "print(\"Set mahasiswa setelah penghapusan elemen acak:\", mahasiswa)"
   ]
  },
  {
   "cell_type": "code",
   "execution_count": 6,
   "id": "d9fdb934-927f-42e1-887b-88a201005886",
   "metadata": {},
   "outputs": [
    {
     "name": "stdout",
     "output_type": "stream",
     "text": [
      "Set mahasiswa setelah dikosongkan: set()\n"
     ]
    }
   ],
   "source": [
    "mahasiswa.clear()\n",
    "print(\"Set mahasiswa setelah dikosongkan:\", mahasiswa)"
   ]
  },
  {
   "cell_type": "code",
   "execution_count": null,
   "id": "af9363d5-d1a2-44ea-be7f-2bf43ba51ce9",
   "metadata": {},
   "outputs": [],
   "source": []
  }
 ],
 "metadata": {
  "kernelspec": {
   "display_name": "Python 3 (ipykernel)",
   "language": "python",
   "name": "python3"
  },
  "language_info": {
   "codemirror_mode": {
    "name": "ipython",
    "version": 3
   },
   "file_extension": ".py",
   "mimetype": "text/x-python",
   "name": "python",
   "nbconvert_exporter": "python",
   "pygments_lexer": "ipython3",
   "version": "3.9.13"
  }
 },
 "nbformat": 4,
 "nbformat_minor": 5
}
